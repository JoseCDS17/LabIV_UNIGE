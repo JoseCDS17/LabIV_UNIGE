{
 "cells": [
  {
   "cell_type": "code",
   "execution_count": 1,
   "id": "dc266057",
   "metadata": {},
   "outputs": [],
   "source": [
    "# import necessary modules\n",
    "%matplotlib inline\n",
    "import matplotlib\n",
    "import matplotlib.pyplot as plt\n",
    "import numpy as np\n",
    "from scipy.signal import find_peaks\n",
    "\n",
    "matplotlib.rcParams['text.usetex'] = True\n",
    "matplotlib.rcParams['font.family'] = 'CM Roman'\n",
    "matplotlib.rcParams['font.size'] = 12"
   ]
  },
  {
   "cell_type": "code",
   "execution_count": 2,
   "id": "a79c27af",
   "metadata": {},
   "outputs": [
    {
     "name": "stdout",
     "output_type": "stream",
     "text": [
      "Number of waveforms: 12044\n"
     ]
    }
   ],
   "source": [
    "with open(\"./txt_data/minima_wf_67.txt\", \"r\", encoding=\"utf-8\") as f:\n",
    "    minimum = f.readlines()\n",
    "\n",
    "minimum = np.array([float(line.strip()) for line in minimum])\n",
    "print(f'Number of waveforms: {len(minimum)}')"
   ]
  },
  {
   "cell_type": "code",
   "execution_count": 3,
   "id": "d9c379ef",
   "metadata": {},
   "outputs": [
    {
     "name": "stdout",
     "output_type": "stream",
     "text": [
      "Probability of 2-1: 0.109\n",
      "Probability of 3-1: 0.016\n",
      "Probability of 3-2: 0.151\n"
     ]
    }
   ],
   "source": [
    "hist, bin_edges = np.histogram(minimum,bins=100)\n",
    "\n",
    "centers = (bin_edges[:-1] + bin_edges[1:]) / 2\n",
    "\n",
    "peaks_indices = find_peaks(hist,width=3)[0]\n",
    "peaks_values = centers[peaks_indices]\n",
    "\n",
    "peaks_sum = []\n",
    "wd = 5\n",
    "for n in range(len(hist)):\n",
    "    if n in peaks_indices:\n",
    "        peaks_sum.append(np.sum(hist[n-wd:n+wd]))\n",
    "\n",
    "print(f'Probability of 2-1: {peaks_sum[-2]/peaks_sum[-1]:.3f}')\n",
    "print(f'Probability of 3-1: {peaks_sum[-3]/peaks_sum[-1]:.3f}')\n",
    "print(f'Probability of 3-2: {peaks_sum[-3]/peaks_sum[-2]:.3f}')"
   ]
  },
  {
   "cell_type": "code",
   "execution_count": 4,
   "id": "21163a5b",
   "metadata": {},
   "outputs": [
    {
     "data": {
      "text/plain": [
       "Text(0.5, 1.0, 'Photon histogram')"
      ]
     },
     "execution_count": 4,
     "metadata": {},
     "output_type": "execute_result"
    },
    {
     "data": {
      "image/png": "[encoded data removed]",
      "text/plain": [
       "<Figure size 640x480 with 1 Axes>"
      ]
     },
     "metadata": {},
     "output_type": "display_data"
    }
   ],
   "source": [
    "#Figure\n",
    "fig2, ax2 = plt.subplots()\n",
    "\n",
    "y_max = 2500\n",
    "\n",
    "ax2.hist(minimum,bins = 100)\n",
    "ax2.vlines(peaks_values, 0, y_max, color='k', linestyle='--')\n",
    "ax2.vlines(bin_edges[peaks_indices-wd], 0, y_max, color='r', linestyles='dashdot')\n",
    "ax2.vlines(bin_edges[peaks_indices+wd], 0, y_max, color='r', linestyles='dashdot')\n",
    "\n",
    "ax2.set_title('Photon histogram')"
   ]
  }
 ],
 "metadata": {
  "kernelspec": {
   "display_name": "venv",
   "language": "python",
   "name": "python3"
  },
  "language_info": {
   "codemirror_mode": {
    "name": "ipython",
    "version": 3
   },
   "file_extension": ".py",
   "mimetype": "text/x-python",
   "name": "python",
   "nbconvert_exporter": "python",
   "pygments_lexer": "ipython3",
   "version": "3.12.3"
  }
 },
 "nbformat": 4,
 "nbformat_minor": 5
}
