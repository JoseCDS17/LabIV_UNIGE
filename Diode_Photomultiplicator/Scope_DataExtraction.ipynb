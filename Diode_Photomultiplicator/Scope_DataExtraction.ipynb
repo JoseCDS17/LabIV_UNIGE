{
 "cells": [
  {
   "cell_type": "code",
   "execution_count": 2,
   "id": "be46eae5",
   "metadata": {},
   "outputs": [],
   "source": [
    "import pyvisa,time\n",
    "from decode_scope_data import LecroyScopeData"
   ]
  },
  {
   "cell_type": "code",
   "execution_count": 3,
   "id": "b2f063e2",
   "metadata": {},
   "outputs": [
    {
     "name": "stdout",
     "output_type": "stream",
     "text": [
      "Lecory,T3DSO2502A,T0101C21490989,5.0.1.3.9R6\n"
     ]
    }
   ],
   "source": [
    "#Modify the following global variables according to the model\n",
    "DSO_RSC = \"TCPIP0::10.195.48.104::inst0::INSTR\"\n",
    "\n",
    "rm = pyvisa.ResourceManager('@py')\n",
    "dso = rm.open_resource(DSO_RSC)\n",
    "dso.timeout = 30000 #default value is 2000(2s)\n",
    "dso.chunk_size = 20*1024*1024 #default value is 20*1024(20k bytes)\n",
    "\n",
    "print(dso.query(\"*IDN?\").strip())"
   ]
  },
  {
   "cell_type": "code",
   "execution_count": 4,
   "id": "37f2e1f0",
   "metadata": {},
   "outputs": [
    {
     "data": {
      "text/plain": [
       "30"
      ]
     },
     "execution_count": 4,
     "metadata": {},
     "output_type": "execute_result"
    }
   ],
   "source": [
    "#set the sequence\n",
    "dso.write(\"ACQuire:SEQuence ON\")\n",
    "dso.write(\"ACQuire:SEQuence:COUNt 30000\")"
   ]
  },
  {
   "cell_type": "code",
   "execution_count": 5,
   "id": "e47de61b",
   "metadata": {},
   "outputs": [
    {
     "name": "stdout",
     "output_type": "stream",
     "text": [
      "30000\n"
     ]
    }
   ],
   "source": [
    "dso.write(\"TRIG:MODE SINGLE\")\n",
    "while dso.query(\"TRIGGER:STAT?\").strip() != 'Stop':\n",
    "    pass\n",
    "\n",
    "dso.write(\"HISTORY ON\")\n",
    "dso.write(\"HISTORY:PLAY FORWards\")\n",
    "\n",
    "len_history = int(dso.query(str(\"HISTORy:FRAMe?\")).strip())\n",
    "print(len_history)"
   ]
  },
  {
   "cell_type": "code",
   "execution_count": 6,
   "id": "45b52f3c",
   "metadata": {},
   "outputs": [
    {
     "ename": "KeyboardInterrupt",
     "evalue": "",
     "output_type": "error",
     "traceback": [
      "\u001b[31m---------------------------------------------------------------------------\u001b[39m",
      "\u001b[31mKeyboardInterrupt\u001b[39m                         Traceback (most recent call last)",
      "\u001b[36mCell\u001b[39m\u001b[36m \u001b[39m\u001b[32mIn[6]\u001b[39m\u001b[32m, line 11\u001b[39m\n\u001b[32m      8\u001b[39m recv_preamble = dso.read_raw()\n\u001b[32m     10\u001b[39m dso.write(\u001b[33m\"\u001b[39m\u001b[33mWAV:DATA?\u001b[39m\u001b[33m\"\u001b[39m)\n\u001b[32m---> \u001b[39m\u001b[32m11\u001b[39m recv_data = \u001b[43mdso\u001b[49m\u001b[43m.\u001b[49m\u001b[43mread_raw\u001b[49m\u001b[43m(\u001b[49m\u001b[43m)\u001b[49m\n\u001b[32m     13\u001b[39m waveform = LecroyScopeData(recv_preamble,recv_data)\n\u001b[32m     14\u001b[39m voltage = waveform.y\n",
      "\u001b[36mFile \u001b[39m\u001b[32m~/Desktop/Projects/venv/lib/python3.12/site-packages/pyvisa/resources/messagebased.py:428\u001b[39m, in \u001b[36mMessageBasedResource.read_raw\u001b[39m\u001b[34m(self, size)\u001b[39m\n\u001b[32m    411\u001b[39m \u001b[38;5;28;01mdef\u001b[39;00m\u001b[38;5;250m \u001b[39m\u001b[34mread_raw\u001b[39m(\u001b[38;5;28mself\u001b[39m, size: Optional[\u001b[38;5;28mint\u001b[39m] = \u001b[38;5;28;01mNone\u001b[39;00m) -> \u001b[38;5;28mbytes\u001b[39m:\n\u001b[32m    412\u001b[39m \u001b[38;5;250m    \u001b[39m\u001b[33;03m\"\"\"Read the unmodified string sent from the instrument to the computer.\u001b[39;00m\n\u001b[32m    413\u001b[39m \n\u001b[32m    414\u001b[39m \u001b[33;03m    In contrast to read(), no termination characters are stripped.\u001b[39;00m\n\u001b[32m   (...)\u001b[39m\u001b[32m    426\u001b[39m \n\u001b[32m    427\u001b[39m \u001b[33;03m    \"\"\"\u001b[39;00m\n\u001b[32m--> \u001b[39m\u001b[32m428\u001b[39m     \u001b[38;5;28;01mreturn\u001b[39;00m \u001b[38;5;28mbytes\u001b[39m(\u001b[38;5;28;43mself\u001b[39;49m\u001b[43m.\u001b[49m\u001b[43m_read_raw\u001b[49m\u001b[43m(\u001b[49m\u001b[43msize\u001b[49m\u001b[43m)\u001b[49m)\n",
      "\u001b[36mFile \u001b[39m\u001b[32m~/Desktop/Projects/venv/lib/python3.12/site-packages/pyvisa/resources/messagebased.py:473\u001b[39m, in \u001b[36mMessageBasedResource._read_raw\u001b[39m\u001b[34m(self, size, monitoring_interface)\u001b[39m\n\u001b[32m    466\u001b[39m \u001b[38;5;28;01mwhile\u001b[39;00m status == loop_status:\n\u001b[32m    467\u001b[39m     logger.debug(\n\u001b[32m    468\u001b[39m         \u001b[33m\"\u001b[39m\u001b[38;5;132;01m%s\u001b[39;00m\u001b[33m - reading \u001b[39m\u001b[38;5;132;01m%d\u001b[39;00m\u001b[33m bytes (last status \u001b[39m\u001b[38;5;132;01m%r\u001b[39;00m\u001b[33m)\u001b[39m\u001b[33m\"\u001b[39m,\n\u001b[32m    469\u001b[39m         \u001b[38;5;28mself\u001b[39m._resource_name,\n\u001b[32m    470\u001b[39m         size,\n\u001b[32m    471\u001b[39m         status,\n\u001b[32m    472\u001b[39m     )\n\u001b[32m--> \u001b[39m\u001b[32m473\u001b[39m     chunk, status = \u001b[38;5;28;43mself\u001b[39;49m\u001b[43m.\u001b[49m\u001b[43mvisalib\u001b[49m\u001b[43m.\u001b[49m\u001b[43mread\u001b[49m\u001b[43m(\u001b[49m\u001b[38;5;28;43mself\u001b[39;49m\u001b[43m.\u001b[49m\u001b[43msession\u001b[49m\u001b[43m,\u001b[49m\u001b[43m \u001b[49m\u001b[43msize\u001b[49m\u001b[43m)\u001b[49m\n\u001b[32m    474\u001b[39m     \u001b[38;5;28;01mif\u001b[39;00m monitoring_interface:\n\u001b[32m    475\u001b[39m         monitoring_interface.update(\u001b[38;5;28mlen\u001b[39m(chunk))\n",
      "\u001b[36mFile \u001b[39m\u001b[32m~/Desktop/Projects/venv/lib/python3.12/site-packages/pyvisa_py/highlevel.py:543\u001b[39m, in \u001b[36mPyVisaLibrary.read\u001b[39m\u001b[34m(self, session, count)\u001b[39m\n\u001b[32m    541\u001b[39m \u001b[38;5;66;03m# from the session handle, dispatch to the read method of the session object.\u001b[39;00m\n\u001b[32m    542\u001b[39m \u001b[38;5;28;01mtry\u001b[39;00m:\n\u001b[32m--> \u001b[39m\u001b[32m543\u001b[39m     data, status_code = \u001b[38;5;28;43mself\u001b[39;49m\u001b[43m.\u001b[49m\u001b[43msessions\u001b[49m\u001b[43m[\u001b[49m\u001b[43msession\u001b[49m\u001b[43m]\u001b[49m\u001b[43m.\u001b[49m\u001b[43mread\u001b[49m\u001b[43m(\u001b[49m\u001b[43mcount\u001b[49m\u001b[43m)\u001b[49m\n\u001b[32m    544\u001b[39m \u001b[38;5;28;01mexcept\u001b[39;00m \u001b[38;5;167;01mKeyError\u001b[39;00m:\n\u001b[32m    545\u001b[39m     \u001b[38;5;28;01mreturn\u001b[39;00m (\n\u001b[32m    546\u001b[39m         \u001b[33mb\u001b[39m\u001b[33m\"\u001b[39m\u001b[33m\"\u001b[39m,\n\u001b[32m    547\u001b[39m         \u001b[38;5;28mself\u001b[39m.handle_return_value(session, StatusCode.error_invalid_object),\n\u001b[32m    548\u001b[39m     )\n",
      "\u001b[36mFile \u001b[39m\u001b[32m~/Desktop/Projects/venv/lib/python3.12/site-packages/pyvisa_py/tcpip.py:574\u001b[39m, in \u001b[36mTCPIPInstrVxi11.read\u001b[39m\u001b[34m(self, count)\u001b[39m\n\u001b[32m    570\u001b[39m \u001b[38;5;28;01mwhile\u001b[39;00m reason & end_reason == \u001b[32m0\u001b[39m:\n\u001b[32m    571\u001b[39m     \u001b[38;5;66;03m# Decrease timeout so that the total timeout does not get larger\u001b[39;00m\n\u001b[32m    572\u001b[39m     \u001b[38;5;66;03m# than the specified timeout.\u001b[39;00m\n\u001b[32m    573\u001b[39m     timeout = \u001b[38;5;28mmax\u001b[39m(\u001b[32m0\u001b[39m, timeout - \u001b[38;5;28mint\u001b[39m((time.time() - start_time) * \u001b[32m1000\u001b[39m))\n\u001b[32m--> \u001b[39m\u001b[32m574\u001b[39m     error, reason, data = \u001b[43mread_fun\u001b[49m\u001b[43m(\u001b[49m\n\u001b[32m    575\u001b[39m \u001b[43m        \u001b[49m\u001b[38;5;28;43mself\u001b[39;49m\u001b[43m.\u001b[49m\u001b[43mlink\u001b[49m\u001b[43m,\u001b[49m\u001b[43m \u001b[49m\u001b[43mchunk_length\u001b[49m\u001b[43m,\u001b[49m\u001b[43m \u001b[49m\u001b[43mtimeout\u001b[49m\u001b[43m,\u001b[49m\u001b[43m \u001b[49m\u001b[38;5;28;43mself\u001b[39;49m\u001b[43m.\u001b[49m\u001b[43mlock_timeout\u001b[49m\u001b[43m,\u001b[49m\u001b[43m \u001b[49m\u001b[43mflags\u001b[49m\u001b[43m,\u001b[49m\u001b[43m \u001b[49m\u001b[43mterm_char\u001b[49m\n\u001b[32m    576\u001b[39m \u001b[43m    \u001b[49m\u001b[43m)\u001b[49m\n\u001b[32m    578\u001b[39m     \u001b[38;5;28;01mif\u001b[39;00m error == vxi11.ErrorCodes.io_timeout:\n\u001b[32m    579\u001b[39m         \u001b[38;5;28;01mreturn\u001b[39;00m \u001b[38;5;28mbytes\u001b[39m(read_data), StatusCode.error_timeout\n",
      "\u001b[36mFile \u001b[39m\u001b[32m~/Desktop/Projects/venv/lib/python3.12/site-packages/pyvisa_py/protocols/vxi11.py:236\u001b[39m, in \u001b[36mCoreClient.device_read\u001b[39m\u001b[34m(self, link, request_size, io_timeout, lock_timeout, flags, term_char)\u001b[39m\n\u001b[32m    234\u001b[39m params = (link, request_size, io_timeout, lock_timeout, flags, term_char)\n\u001b[32m    235\u001b[39m \u001b[38;5;28;01mtry\u001b[39;00m:\n\u001b[32m--> \u001b[39m\u001b[32m236\u001b[39m     \u001b[38;5;28;01mreturn\u001b[39;00m \u001b[38;5;28;43mself\u001b[39;49m\u001b[43m.\u001b[49m\u001b[43mmake_call\u001b[49m\u001b[43m(\u001b[49m\n\u001b[32m    237\u001b[39m \u001b[43m        \u001b[49m\u001b[43mDEVICE_READ\u001b[49m\u001b[43m,\u001b[49m\n\u001b[32m    238\u001b[39m \u001b[43m        \u001b[49m\u001b[43mparams\u001b[49m\u001b[43m,\u001b[49m\n\u001b[32m    239\u001b[39m \u001b[43m        \u001b[49m\u001b[38;5;28;43mself\u001b[39;49m\u001b[43m.\u001b[49m\u001b[43mpacker\u001b[49m\u001b[43m.\u001b[49m\u001b[43mpack_device_read_parms\u001b[49m\u001b[43m,\u001b[49m\n\u001b[32m    240\u001b[39m \u001b[43m        \u001b[49m\u001b[38;5;28;43mself\u001b[39;49m\u001b[43m.\u001b[49m\u001b[43munpacker\u001b[49m\u001b[43m.\u001b[49m\u001b[43munpack_device_read_resp\u001b[49m\u001b[43m,\u001b[49m\n\u001b[32m    241\u001b[39m \u001b[43m    \u001b[49m\u001b[43m)\u001b[49m\n\u001b[32m    242\u001b[39m \u001b[38;5;28;01mexcept\u001b[39;00m socket.timeout \u001b[38;5;28;01mas\u001b[39;00m e:\n\u001b[32m    243\u001b[39m     \u001b[38;5;28;01mreturn\u001b[39;00m ErrorCodes.io_error, e.args[\u001b[32m0\u001b[39m], \u001b[33m\"\u001b[39m\u001b[33m\"\u001b[39m\n",
      "\u001b[36mFile \u001b[39m\u001b[32m~/Desktop/Projects/venv/lib/python3.12/site-packages/pyvisa_py/protocols/rpc.py:480\u001b[39m, in \u001b[36mRawTCPClient.make_call\u001b[39m\u001b[34m(self, proc, args, pack_func, unpack_func)\u001b[39m\n\u001b[32m    474\u001b[39m \u001b[38;5;66;03m# In case of a timeout because the instrument cannot answer, the\u001b[39;00m\n\u001b[32m    475\u001b[39m \u001b[38;5;66;03m# instrument should let use something went wrong. If we hit the hard\u001b[39;00m\n\u001b[32m    476\u001b[39m \u001b[38;5;66;03m# timeout of the rpc, it means something worse happened (cable\u001b[39;00m\n\u001b[32m    477\u001b[39m \u001b[38;5;66;03m# unplugged).\u001b[39;00m\n\u001b[32m    478\u001b[39m \u001b[38;5;28mself\u001b[39m.timeout += \u001b[32m1.0\u001b[39m\n\u001b[32m--> \u001b[39m\u001b[32m480\u001b[39m \u001b[38;5;28;01mreturn\u001b[39;00m \u001b[38;5;28;43msuper\u001b[39;49m\u001b[43m(\u001b[49m\u001b[43mRawTCPClient\u001b[49m\u001b[43m,\u001b[49m\u001b[43m \u001b[49m\u001b[38;5;28;43mself\u001b[39;49m\u001b[43m)\u001b[49m\u001b[43m.\u001b[49m\u001b[43mmake_call\u001b[49m\u001b[43m(\u001b[49m\u001b[43mproc\u001b[49m\u001b[43m,\u001b[49m\u001b[43m \u001b[49m\u001b[43margs\u001b[49m\u001b[43m,\u001b[49m\u001b[43m \u001b[49m\u001b[43mpack_func\u001b[49m\u001b[43m,\u001b[49m\u001b[43m \u001b[49m\u001b[43munpack_func\u001b[49m\u001b[43m)\u001b[49m\n",
      "\u001b[36mFile \u001b[39m\u001b[32m~/Desktop/Projects/venv/lib/python3.12/site-packages/pyvisa_py/protocols/rpc.py:235\u001b[39m, in \u001b[36mClient.make_call\u001b[39m\u001b[34m(self, proc, args, pack_func, unpack_func)\u001b[39m\n\u001b[32m    233\u001b[39m \u001b[38;5;28;01mif\u001b[39;00m pack_func:\n\u001b[32m    234\u001b[39m     pack_func(args)\n\u001b[32m--> \u001b[39m\u001b[32m235\u001b[39m \u001b[38;5;28;43mself\u001b[39;49m\u001b[43m.\u001b[49m\u001b[43mdo_call\u001b[49m\u001b[43m(\u001b[49m\u001b[43m)\u001b[49m\n\u001b[32m    236\u001b[39m \u001b[38;5;28;01mif\u001b[39;00m unpack_func:\n\u001b[32m    237\u001b[39m     result = unpack_func()\n",
      "\u001b[36mFile \u001b[39m\u001b[32m~/Desktop/Projects/venv/lib/python3.12/site-packages/pyvisa_py/protocols/rpc.py:508\u001b[39m, in \u001b[36mRawTCPClient.do_call\u001b[39m\u001b[34m(self)\u001b[39m\n\u001b[32m    505\u001b[39m     min_packages = \u001b[32m0\u001b[39m\n\u001b[32m    507\u001b[39m \u001b[38;5;28;01mwhile\u001b[39;00m \u001b[38;5;28;01mTrue\u001b[39;00m:\n\u001b[32m--> \u001b[39m\u001b[32m508\u001b[39m     reply = \u001b[43m_recvrecord\u001b[49m\u001b[43m(\u001b[49m\u001b[38;5;28;43mself\u001b[39;49m\u001b[43m.\u001b[49m\u001b[43msock\u001b[49m\u001b[43m,\u001b[49m\u001b[43m \u001b[49m\u001b[38;5;28;43mself\u001b[39;49m\u001b[43m.\u001b[49m\u001b[43mtimeout\u001b[49m\u001b[43m,\u001b[49m\u001b[43m \u001b[49m\u001b[43mmin_packages\u001b[49m\u001b[43m=\u001b[49m\u001b[43mmin_packages\u001b[49m\u001b[43m)\u001b[49m\n\u001b[32m    509\u001b[39m     u = \u001b[38;5;28mself\u001b[39m.unpacker\n\u001b[32m    510\u001b[39m     u.reset(reply)\n",
      "\u001b[36mFile \u001b[39m\u001b[32m~/Desktop/Projects/venv/lib/python3.12/site-packages/pyvisa_py/protocols/rpc.py:353\u001b[39m, in \u001b[36m_recvrecord\u001b[39m\u001b[34m(sock, timeout, read_fun, min_packages)\u001b[39m\n\u001b[32m    349\u001b[39m \u001b[38;5;28;01mwhile\u001b[39;00m \u001b[38;5;28;01mTrue\u001b[39;00m:\n\u001b[32m    350\u001b[39m     \u001b[38;5;66;03m# if more data for the current fragment is needed, use select\u001b[39;00m\n\u001b[32m    351\u001b[39m     \u001b[38;5;66;03m# to wait for read ready, max `select_timeout` seconds\u001b[39;00m\n\u001b[32m    352\u001b[39m     \u001b[38;5;28;01mif\u001b[39;00m \u001b[38;5;28mlen\u001b[39m(buffer) < exp_length:\n\u001b[32m--> \u001b[39m\u001b[32m353\u001b[39m         r, w, x = \u001b[43mselect\u001b[49m\u001b[43m.\u001b[49m\u001b[43mselect\u001b[49m\u001b[43m(\u001b[49m\u001b[43m[\u001b[49m\u001b[43msock\u001b[49m\u001b[43m]\u001b[49m\u001b[43m,\u001b[49m\u001b[43m \u001b[49m\u001b[43m[\u001b[49m\u001b[43m]\u001b[49m\u001b[43m,\u001b[49m\u001b[43m \u001b[49m\u001b[43m[\u001b[49m\u001b[43m]\u001b[49m\u001b[43m,\u001b[49m\u001b[43m \u001b[49m\u001b[43mselect_timeout\u001b[49m\u001b[43m)\u001b[49m\n\u001b[32m    354\u001b[39m         read_data = \u001b[33mb\u001b[39m\u001b[33m\"\u001b[39m\u001b[33m\"\u001b[39m\n\u001b[32m    355\u001b[39m         \u001b[38;5;28;01mif\u001b[39;00m sock \u001b[38;5;129;01min\u001b[39;00m r:\n",
      "\u001b[31mKeyboardInterrupt\u001b[39m: "
     ]
    }
   ],
   "source": [
    "if dso.query(\"HISTORy?\").strip() == 'ON':\n",
    "    with open(\"./txt_data/INSERT_NAME\",\"w\", encoding=\"utf-8\") as f:\n",
    "        for i in range(1,len_history):\n",
    "            dso.write(f\"HISTORy:FRAMe {i}\")\n",
    "\n",
    "            dso.write(\"WAV:SOUR C1\")\n",
    "            dso.write(\"WAV:PREamble?\")\n",
    "            recv_preamble = dso.read_raw()\n",
    "\n",
    "            dso.write(\"WAV:DATA?\")\n",
    "            recv_data = dso.read_raw()\n",
    "\n",
    "            waveform = LecroyScopeData(recv_preamble,recv_data)\n",
    "            voltage = waveform.y\n",
    "            m = min(voltage)\n",
    "            f.write(str(m) + '\\n')\n",
    "else:\n",
    "    print('History: OFF')"
   ]
  }
 ],
 "metadata": {
  "kernelspec": {
   "display_name": "venv",
   "language": "python",
   "name": "python3"
  },
  "language_info": {
   "codemirror_mode": {
    "name": "ipython",
    "version": 3
   },
   "file_extension": ".py",
   "mimetype": "text/x-python",
   "name": "python",
   "nbconvert_exporter": "python",
   "pygments_lexer": "ipython3",
   "version": "3.12.3"
  }
 },
 "nbformat": 4,
 "nbformat_minor": 5
}
